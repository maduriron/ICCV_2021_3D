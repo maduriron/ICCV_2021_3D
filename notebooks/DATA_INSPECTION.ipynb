{
 "cells": [
  {
   "cell_type": "code",
   "execution_count": 17,
   "id": "56ea55a7",
   "metadata": {},
   "outputs": [],
   "source": [
    "dir_images = \"/home/sentic/storage2/iccv\"\n",
    "part = \"val\" # or val\n",
    "label = \"non-covid\" # or non-covid"
   ]
  },
  {
   "cell_type": "code",
   "execution_count": 18,
   "id": "0d961245",
   "metadata": {},
   "outputs": [],
   "source": [
    "import pandas as pd\n",
    "from PIL import Image\n",
    "import os"
   ]
  },
  {
   "cell_type": "code",
   "execution_count": 19,
   "id": "e390fcb8",
   "metadata": {},
   "outputs": [],
   "source": [
    "final_dir = os.path.join(dir_images, part, label)"
   ]
  },
  {
   "cell_type": "code",
   "execution_count": 20,
   "id": "a5c5d71f",
   "metadata": {},
   "outputs": [],
   "source": [
    "for ct_name in os.listdir(final_dir):\n",
    "    dir_ct = os.path.join(final_dir, ct_name)\n",
    "    length = len(os.listdir(dir_ct))\n",
    "    if length >= 700 and length <= 480000:\n",
    "        print(ct_name, \" |---> \", length)"
   ]
  },
  {
   "cell_type": "code",
   "execution_count": null,
   "id": "7cf07525",
   "metadata": {},
   "outputs": [],
   "source": [
    "# 3 + 2"
   ]
  }
 ],
 "metadata": {
  "kernelspec": {
   "display_name": "Python 3",
   "language": "python",
   "name": "python3"
  },
  "language_info": {
   "codemirror_mode": {
    "name": "ipython",
    "version": 3
   },
   "file_extension": ".py",
   "mimetype": "text/x-python",
   "name": "python",
   "nbconvert_exporter": "python",
   "pygments_lexer": "ipython3",
   "version": "3.6.10"
  }
 },
 "nbformat": 4,
 "nbformat_minor": 5
}
